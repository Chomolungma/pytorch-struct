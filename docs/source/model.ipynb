{
 "cells": [
  {
   "cell_type": "markdown",
   "metadata": {},
   "source": [
    "# Model"
   ]
  },
  {
   "cell_type": "raw",
   "metadata": {
    "raw_mimetype": "text/restructuredtext"
   },
   "source": [
    ".. toctree::                                               \n",
    "   :maxdepth: 2                                       \n",
    "   :caption: Contents: \n"
   ]
  },
  {
   "cell_type": "code",
   "execution_count": 1,
   "metadata": {},
   "outputs": [
    {
     "ename": "ModuleNotFoundError",
     "evalue": "No module named 'torch_struct'",
     "output_type": "error",
     "traceback": [
      "\u001b[0;31m--------------------------------\u001b[0m",
      "\u001b[0;31mModuleNotFoundError\u001b[0mTraceback (most recent call last)",
      "\u001b[0;32m<ipython-input-1-1e87a91381f4>\u001b[0m in \u001b[0;36m<module>\u001b[0;34m()\u001b[0m\n\u001b[0;32m----> 1\u001b[0;31m \u001b[0;32mimport\u001b[0m \u001b[0mtorch_struct\u001b[0m\u001b[0;34m\u001b[0m\u001b[0;34m\u001b[0m\u001b[0m\n\u001b[0m\u001b[1;32m      2\u001b[0m \u001b[0;32mimport\u001b[0m \u001b[0mtorch\u001b[0m\u001b[0;34m\u001b[0m\u001b[0;34m\u001b[0m\u001b[0m\n\u001b[1;32m      3\u001b[0m \u001b[0;32mimport\u001b[0m \u001b[0mmatplotlib\u001b[0m\u001b[0;34m.\u001b[0m\u001b[0mpyplot\u001b[0m \u001b[0;32mas\u001b[0m \u001b[0mplt\u001b[0m\u001b[0;34m\u001b[0m\u001b[0;34m\u001b[0m\u001b[0m\n\u001b[1;32m      4\u001b[0m \u001b[0;32mimport\u001b[0m \u001b[0mmatplotlib\u001b[0m\u001b[0;34m\u001b[0m\u001b[0;34m\u001b[0m\u001b[0m\n",
      "\u001b[0;31mModuleNotFoundError\u001b[0m: No module named 'torch_struct'"
     ]
    }
   ],
   "source": [
    "import torch_struct\n",
    "import torch\n",
    "import matplotlib.pyplot as plt\n",
    "import matplotlib"
   ]
  },
  {
   "cell_type": "code",
   "execution_count": null,
   "metadata": {},
   "outputs": [],
   "source": [
    "matplotlib.rcParams['figure.figsize'] = (7.0, 7.0)"
   ]
  },
  {
   "cell_type": "markdown",
   "metadata": {},
   "source": [
    "## Chain"
   ]
  },
  {
   "cell_type": "raw",
   "metadata": {
    "raw_mimetype": "text/restructuredtext"
   },
   "source": [
    ".. autoclass:: torch_struct.LinearChainCRF "
   ]
  },
  {
   "cell_type": "code",
   "execution_count": null,
   "metadata": {},
   "outputs": [],
   "source": [
    "batch, N, C = 3, 7, 2\n",
    "def show_chain(chain):\n",
    "    plt.imshow(chain.detach().sum(-1).transpose(0, 1))\n",
    "\n",
    "# batch, N, z_n, z_n_1\n",
    "log_potentials = torch.rand(batch, N, C, C)\n",
    "dist = torch_struct.LinearChainCRF(log_potentials)\n",
    "show_chain(dist.argmax[0])"
   ]
  },
  {
   "cell_type": "code",
   "execution_count": null,
   "metadata": {},
   "outputs": [],
   "source": [
    "show_chain(dist.marginals[0])"
   ]
  },
  {
   "cell_type": "code",
   "execution_count": null,
   "metadata": {
    "scrolled": true
   },
   "outputs": [],
   "source": [
    "event = dist.to_event(torch.tensor([[0, 1, 0, 1, 1, 1, 0, 1]]), 2)\n",
    "show_chain(event[0])"
   ]
  },
  {
   "cell_type": "markdown",
   "metadata": {},
   "source": [
    "## Hidden Markov Model"
   ]
  },
  {
   "cell_type": "raw",
   "metadata": {
    "raw_mimetype": "text/restructuredtext"
   },
   "source": [
    ".. autoclass:: torch_struct.HMM"
   ]
  },
  {
   "cell_type": "code",
   "execution_count": null,
   "metadata": {},
   "outputs": [],
   "source": [
    "batch, V, N, C = 10, 3, 7, 2\n",
    "\n",
    "transition = torch.rand(C, C).log_softmax(0)\n",
    "emission = torch.rand(V, C).log_softmax(0)\n",
    "init = torch.rand(C).log_softmax(0)\n",
    "observations = torch.randint(0, V, size=(batch, N))\n",
    "\n",
    "dist = torch_struct.HMM(transition, emission, init, observations)\n",
    "show_chain(dist.argmax[0])"
   ]
  },
  {
   "cell_type": "markdown",
   "metadata": {},
   "source": [
    "## Semi-Markov"
   ]
  },
  {
   "cell_type": "raw",
   "metadata": {
    "raw_mimetype": "text/restructuredtext"
   },
   "source": [
    ".. autoclass:: torch_struct.SemiMarkovCRF"
   ]
  },
  {
   "cell_type": "code",
   "execution_count": null,
   "metadata": {},
   "outputs": [],
   "source": [
    "batch, N, C, K = 3, 10, 2, 6\n",
    "def show_sm(chain):\n",
    "    plt.imshow(chain.detach().sum(1).sum(-1).transpose(0, 1))\n",
    "\n",
    "# batch, N, K, z_n, z_n_1\n",
    "log_potentials = torch.rand(batch, N, K, C, C)\n",
    "log_potentials[:, :, :3] = -1e9\n",
    "dist = torch_struct.SemiMarkovCRF(log_potentials)\n",
    "show_sm(dist.argmax[0])"
   ]
  },
  {
   "cell_type": "code",
   "execution_count": null,
   "metadata": {},
   "outputs": [],
   "source": [
    "show_sm(dist.marginals[0])"
   ]
  },
  {
   "cell_type": "code",
   "execution_count": null,
   "metadata": {},
   "outputs": [],
   "source": [
    "# Use -1 for segments.\n",
    "event = dist.to_event(torch.tensor([[0, 1, -1, 1, -1, -1, 0, 1,  1, -1, -1]]), (2, 6))\n",
    "show_sm(event[0])"
   ]
  },
  {
   "cell_type": "markdown",
   "metadata": {},
   "source": [
    "## Alignment"
   ]
  },
  {
   "cell_type": "raw",
   "metadata": {
    "raw_mimetype": "text/restructuredtext"
   },
   "source": [
    ".. autoclass:: torch_struct.AlignmentCRF"
   ]
  },
  {
   "cell_type": "code",
   "execution_count": null,
   "metadata": {},
   "outputs": [],
   "source": [
    "batch, N, M = 3, 15, 20\n",
    "def show_deps(tree):\n",
    "    plt.imshow(tree.detach())\n",
    "\n",
    "log_potentials = torch.rand(batch, N, M, 3)\n",
    "dist = torch_struct.AlignmentCRF(log_potentials)\n",
    "show_deps(dist.argmax[0])"
   ]
  },
  {
   "cell_type": "code",
   "execution_count": null,
   "metadata": {},
   "outputs": [],
   "source": [
    "show_deps(dist.marginals[0])"
   ]
  },
  {
   "cell_type": "markdown",
   "metadata": {},
   "source": [
    "## Dependency Tree"
   ]
  },
  {
   "cell_type": "raw",
   "metadata": {
    "raw_mimetype": "text/restructuredtext"
   },
   "source": [
    ".. autoclass:: torch_struct.DependencyCRF"
   ]
  },
  {
   "cell_type": "code",
   "execution_count": null,
   "metadata": {},
   "outputs": [],
   "source": [
    "batch, N, N = 3, 10, 10\n",
    "def show_deps(tree):\n",
    "    plt.imshow(tree.detach())\n",
    "\n",
    "log_potentials = torch.rand(batch, N, N)\n",
    "dist = torch_struct.DependencyCRF(log_potentials)\n",
    "show_deps(dist.argmax[0])"
   ]
  },
  {
   "cell_type": "code",
   "execution_count": null,
   "metadata": {},
   "outputs": [],
   "source": [
    "show_deps(dist.marginals[0])"
   ]
  },
  {
   "cell_type": "code",
   "execution_count": null,
   "metadata": {},
   "outputs": [],
   "source": [
    "# Convert from 1-index standard format. (Head is 0)\n",
    "event = dist.to_event(torch.tensor([[2, 3, 4, 1, 0, 4]]), None)\n",
    "show_deps(event[0])"
   ]
  },
  {
   "cell_type": "markdown",
   "metadata": {},
   "source": [
    "## Non-Projective Dependency Tree"
   ]
  },
  {
   "cell_type": "raw",
   "metadata": {
    "raw_mimetype": "text/restructuredtext"
   },
   "source": [
    ".. autoclass:: torch_struct.NonProjectiveDependencyCRF"
   ]
  },
  {
   "cell_type": "code",
   "execution_count": null,
   "metadata": {},
   "outputs": [],
   "source": [
    "batch, N, N = 3, 10, 10\n",
    "def show_deps(tree):\n",
    "    plt.imshow(tree.detach())\n",
    "\n",
    "log_potentials = torch.rand(batch, N, N)\n",
    "dist = torch_struct.NonProjectiveDependencyCRF(log_potentials)\n",
    "show_deps(dist.marginals[0])"
   ]
  },
  {
   "cell_type": "markdown",
   "metadata": {},
   "source": [
    "## Binary Labeled Tree"
   ]
  },
  {
   "cell_type": "raw",
   "metadata": {
    "raw_mimetype": "text/restructuredtext"
   },
   "source": [
    "    .. autoclass:: torch_struct.TreeCRF"
   ]
  },
  {
   "cell_type": "code",
   "execution_count": null,
   "metadata": {},
   "outputs": [],
   "source": [
    "batch, N, NT = 3, 20, 3\n",
    "def show_tree(tree):\n",
    "    t = tree.detach()\n",
    "    plt.imshow(t[ :, : , 0] + \n",
    "               2 * t[ :,:, 1] +\n",
    "               3 * t[ :,:, 2])\n",
    "\n",
    "log_potentials = torch.rand(batch, N, N, NT)\n",
    "dist = torch_struct.TreeCRF(log_potentials)\n",
    "show_tree(dist.argmax[0])"
   ]
  },
  {
   "cell_type": "code",
   "execution_count": null,
   "metadata": {},
   "outputs": [],
   "source": [
    "show_tree(dist.marginals[0])"
   ]
  },
  {
   "cell_type": "markdown",
   "metadata": {},
   "source": [
    "## Probabilistic Context-Free Grammar"
   ]
  },
  {
   "cell_type": "raw",
   "metadata": {
    "raw_mimetype": "text/restructuredtext"
   },
   "source": [
    "    .. autoclass:: torch_struct.SentCFG"
   ]
  },
  {
   "cell_type": "code",
   "execution_count": null,
   "metadata": {},
   "outputs": [],
   "source": [
    "batch, N, NT, T = 3, 20, 3, 3\n",
    "def show_prob_tree(tree):\n",
    "    t = tree.detach().sum(-1).sum(-1)\n",
    "    plt.imshow(t[ :, : , 0] + \n",
    "               2 * t[ :,:, 1] +\n",
    "               3 * t[ :,:, 2])\n",
    "\n",
    "terminals = torch.rand(batch, N, T)\n",
    "rules = torch.rand(batch, NT, NT+T,  NT+T)\n",
    "init = torch.rand(batch, NT).log_softmax(-1)\n",
    "\n",
    "dist = torch_struct.SentCFG((terminals, rules, init))\n",
    "term, rules, init = dist.argmax"
   ]
  },
  {
   "cell_type": "code",
   "execution_count": null,
   "metadata": {},
   "outputs": [],
   "source": [
    "# Rules\n",
    "show_prob_tree(rules[0])"
   ]
  },
  {
   "cell_type": "code",
   "execution_count": null,
   "metadata": {},
   "outputs": [],
   "source": [
    "# Terminals\n",
    "plt.imshow(term[:1])"
   ]
  },
  {
   "cell_type": "markdown",
   "metadata": {},
   "source": [
    "## Autoregressive / Beam Search"
   ]
  },
  {
   "cell_type": "raw",
   "metadata": {
    "raw_mimetype": "text/restructuredtext"
   },
   "source": [
    "    .. autoclass:: torch_struct.Autoregressive\n",
    "         :members: sample,sample_without_replacement,greedy_max,beam_topk\n",
    "    .. autoclass:: torch_struct.AutoregressiveModel\n",
    "    "
   ]
  },
  {
   "cell_type": "code",
   "execution_count": null,
   "metadata": {},
   "outputs": [],
   "source": [
    "batch, N, C, H, layer = 3, 10, 4, 5, 1\n",
    "init = (torch.rand(batch, layer, H), \n",
    "        torch.rand(batch, layer, H))\n",
    "def t(a):                                                                                                                                                                    \n",
    "    return [t.transpose(0, 1) for t in a]\n",
    "\n",
    "def show_ar(chain):\n",
    "     plt.imshow(chain.detach().transpose(0, 1))\n",
    "\n",
    "class RNN_AR(torch.nn.Module):                                                                                                                                                   \n",
    "    def __init__(self):                                                                                                                                                      \n",
    "        super().__init__()                                                                                                                                                   \n",
    "        self.rnn = torch.nn.LSTM(H, H, batch_first=True)                                                                                                                     \n",
    "        self.proj = torch.nn.Linear(H, C)                                                                                                                                    \n",
    "        self.embed = torch.nn.Embedding(C, H)                                                                                                                                \n",
    "\n",
    "    def forward(self, inputs, state):                                                                                                                                        \n",
    "        inputs = self.embed(inputs)                                                                                                                                          \n",
    "        out, state = self.rnn(inputs, t(state))\n",
    "        return self.proj(out), t(state)\n",
    "    \n",
    "dist = torch_struct.Autoregressive(RNN_AR(), init, C, N)"
   ]
  },
  {
   "cell_type": "code",
   "execution_count": null,
   "metadata": {},
   "outputs": [],
   "source": [
    "path = dist.greedy_argmax()\n",
    "show_ar(path[0])"
   ]
  },
  {
   "cell_type": "code",
   "execution_count": null,
   "metadata": {},
   "outputs": [],
   "source": [
    "dist.log_prob(path.unsqueeze(0))"
   ]
  },
  {
   "cell_type": "code",
   "execution_count": null,
   "metadata": {},
   "outputs": [],
   "source": [
    "out = dist.beam_topk(5)[:, 0]\n",
    "for i in range(3):\n",
    "    show_ar(out[i])\n",
    "    plt.show()"
   ]
  },
  {
   "cell_type": "code",
   "execution_count": null,
   "metadata": {},
   "outputs": [],
   "source": [
    "out = dist.sample((5,))[:, 0 ]\n",
    "print(out.shape)\n",
    "for i in range(3):\n",
    "    show_ar(out[i])\n",
    "    plt.show()"
   ]
  },
  {
   "cell_type": "code",
   "execution_count": null,
   "metadata": {},
   "outputs": [],
   "source": [
    "out = dist.sample_without_replacement((5,))[:, 0]\n",
    "for i in range(3):\n",
    "    show_ar(out[i])\n",
    "    plt.show()"
   ]
  },
  {
   "cell_type": "markdown",
   "metadata": {},
   "source": [
    "## Base Class"
   ]
  },
  {
   "cell_type": "raw",
   "metadata": {
    "raw_mimetype": "text/restructuredtext"
   },
   "source": [
    ".. autoclass:: torch_struct.StructDistribution\n",
    "   :members:  "
   ]
  },
  {
   "cell_type": "code",
   "execution_count": null,
   "metadata": {},
   "outputs": [],
   "source": [
    "batch, N, C = 3, 7, 2\n",
    "\n",
    "# batch, N, z_n, z_n_1\n",
    "log_potentials = torch.rand(batch, N, C, C)\n",
    "dist = torch_struct.LinearChainCRF(log_potentials, lengths=torch.tensor([N-1, N, N+1]))\n",
    "show_chain(dist.argmax[0])\n",
    "plt.show()\n",
    "show_chain(dist.argmax[1])"
   ]
  },
  {
   "cell_type": "code",
   "execution_count": null,
   "metadata": {},
   "outputs": [],
   "source": [
    "show_chain(dist.marginals[0])\n",
    "plt.show()\n",
    "show_chain(dist.marginals[1])"
   ]
  },
  {
   "cell_type": "code",
   "execution_count": null,
   "metadata": {},
   "outputs": [],
   "source": [
    "def show_samples(samples):\n",
    "    show_chain(samples[0, 0])\n",
    "    plt.show()\n",
    "    show_chain(samples[1, 0])\n",
    "    plt.show()\n",
    "    show_chain(samples[0, 1])"
   ]
  },
  {
   "cell_type": "code",
   "execution_count": null,
   "metadata": {},
   "outputs": [],
   "source": [
    "show_samples(dist.sample((10,)))"
   ]
  },
  {
   "cell_type": "code",
   "execution_count": null,
   "metadata": {},
   "outputs": [],
   "source": [
    "show_samples(dist.topk(10))"
   ]
  },
  {
   "cell_type": "code",
   "execution_count": null,
   "metadata": {},
   "outputs": [],
   "source": [
    "# Enumerate \n",
    "x,_ = dist.enumerate_support()\n",
    "print(x.shape)\n",
    "for i in range(10):\n",
    "    show_chain(x[i][0])\n",
    "    plt.show()"
   ]
  },
  {
   "cell_type": "code",
   "execution_count": null,
   "metadata": {},
   "outputs": [],
   "source": [
    "plt.imshow(dist.entropy.detach().unsqueeze(0))"
   ]
  }
 ],
 "metadata": {
  "celltoolbar": "Raw Cell Format",
  "kernelspec": {
   "display_name": "Python 3",
   "language": "python",
   "name": "python3"
  },
  "language_info": {
   "codemirror_mode": {
    "name": "ipython",
    "version": 3
   },
   "file_extension": ".py",
   "mimetype": "text/x-python",
   "name": "python",
   "nbconvert_exporter": "python",
   "pygments_lexer": "ipython3",
   "version": "3.6.8"
  }
 },
 "nbformat": 4,
 "nbformat_minor": 2
}
